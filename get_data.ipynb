{
 "cells": [
  {
   "cell_type": "markdown",
   "metadata": {},
   "source": [
    "### Import necessary modules"
   ]
  },
  {
   "cell_type": "code",
   "execution_count": 1,
   "metadata": {},
   "outputs": [],
   "source": [
    "import pandas as pd\n",
    "import numpy as np\n",
    "import requests\n",
    "import json\n",
    "import csv"
   ]
  },
  {
   "cell_type": "markdown",
   "metadata": {},
   "source": [
    "### API Key"
   ]
  },
  {
   "cell_type": "code",
   "execution_count": 2,
   "metadata": {},
   "outputs": [],
   "source": [
    "key = \"9bruT7Gz23e6fARp9684CVmb-Q6ZKM\""
   ]
  },
  {
   "cell_type": "markdown",
   "metadata": {},
   "source": [
    "### Starting Longitude and Latitude"
   ]
  },
  {
   "cell_type": "code",
   "execution_count": 3,
   "metadata": {},
   "outputs": [],
   "source": [
    "lat = 0\n",
    "long = -80.12"
   ]
  },
  {
   "cell_type": "markdown",
   "metadata": {},
   "source": [
    "### Making an API Request & Checking Response"
   ]
  },
  {
   "cell_type": "code",
   "execution_count": 4,
   "metadata": {},
   "outputs": [
    {
     "name": "stdout",
     "output_type": "stream",
     "text": [
      "{\"elevations\":[{\"lat\":0.0,\"lon\":-80.12,\"elevation\":85.5}],\"resolution\":\"5000m\"}\n"
     ]
    }
   ],
   "source": [
    "response = requests.get(f'https://elevation-api.io/api/elevation?points=({lat},{long})&key={key}')\n",
    "print(response.text)"
   ]
  },
  {
   "cell_type": "code",
   "execution_count": 5,
   "metadata": {},
   "outputs": [
    {
     "data": {
      "text/plain": [
       "{'elevations': [{'lat': 0.0, 'lon': -80.12, 'elevation': 85.5}],\n",
       " 'resolution': '5000m'}"
      ]
     },
     "execution_count": 5,
     "metadata": {},
     "output_type": "execute_result"
    }
   ],
   "source": [
    "response.json()"
   ]
  },
  {
   "cell_type": "markdown",
   "metadata": {},
   "source": [
    "### Getting the Data using a for loop"
   ]
  },
  {
   "cell_type": "code",
   "execution_count": 18,
   "metadata": {},
   "outputs": [],
   "source": [
    "data = []\n",
    "for i in range(20):\n",
    "    for j in range(20):\n",
    "        response = requests.get(f'https://elevation-api.io/api/elevation?points=({lat + (j * 0.045)},{long + (i * 0.045)})&key={key}')\n",
    "        data.append(response)"
   ]
  },
  {
   "cell_type": "markdown",
   "metadata": {},
   "source": [
    "### Figuring out JSON Structure"
   ]
  },
  {
   "cell_type": "code",
   "execution_count": 7,
   "metadata": {},
   "outputs": [
    {
     "name": "stdout",
     "output_type": "stream",
     "text": [
      "One data point with .json(): \n",
      " {'elevations': [{'lat': 0.0, 'lon': -80.12, 'elevation': 85.5}], 'resolution': '5000m'}\n",
      "\n",
      "\n",
      "x['elevations'] looks like: \n",
      " [{'lat': 0.0, 'lon': -80.12, 'elevation': 85.5}] \n",
      "\n",
      "\n",
      "x['elevations'][0] looks like: \n",
      "{'lat': 0.0, 'lon': -80.12, 'elevation': 85.5}\n"
     ]
    },
    {
     "data": {
      "text/plain": [
       "float"
      ]
     },
     "execution_count": 7,
     "metadata": {},
     "output_type": "execute_result"
    }
   ],
   "source": [
    "# type(data[0])\n",
    "x = data[0].json()\n",
    "print(f'One data point with .json(): \\n {x}\\n\\n')\n",
    "print(f\"x['elevations'] looks like: \\n {x['elevations']} \\n\\n\")\n",
    "print(f\"x['elevations'][0] looks like: \\n{x['elevations'][0]}\")\n",
    "type(x['elevations'][0]['lon'])\n",
    "type(x['elevations'][0]['elevation'])"
   ]
  },
  {
   "cell_type": "markdown",
   "metadata": {},
   "source": [
    "### Putting \"Data\" into a Python Dictionary"
   ]
  },
  {
   "cell_type": "code",
   "execution_count": 19,
   "metadata": {},
   "outputs": [],
   "source": [
    "data_list = []\n",
    "for i in data:\n",
    "    d = i.json()\n",
    "    lo = d['elevations'][0]['lon']\n",
    "    e = d['elevations'][0]['elevation']\n",
    "    la = d['elevations'][0]['lat']\n",
    "    # temp['long'].append(l)\n",
    "    # temp['elevation'].append(e)\n",
    "\n",
    "    temp = [e, lo, la]\n",
    "    data_list.append(temp)"
   ]
  },
  {
   "cell_type": "code",
   "execution_count": 13,
   "metadata": {},
   "outputs": [
    {
     "data": {
      "text/plain": [
       "[[85.5, -80.12, 0.0],\n",
       " [160.5, -80.075, 0.0],\n",
       " [254.5, -80.03, 0.0],\n",
       " [161.0, -79.985, 0.0],\n",
       " [140.0, -79.94, 0.0],\n",
       " [168.0, -79.89500000000001, 0.0],\n",
       " [276.0, -79.85000000000001, 0.0],\n",
       " [336.0, -79.805, 0.0],\n",
       " [292.0, -79.76, 0.0],\n",
       " [250.0, -79.715, 0.0],\n",
       " [201.5, -79.67, 0.0],\n",
       " [152.0, -79.625, 0.0],\n",
       " [167.0, -79.58, 0.0],\n",
       " [191.0, -79.53500000000001, 0.0],\n",
       " [194.0, -79.49000000000001, 0.0],\n",
       " [200.0, -79.44500000000001, 0.0],\n",
       " [229.0, -79.4, 0.0],\n",
       " [234.0, -79.355, 0.0],\n",
       " [297.5, -79.31, 0.0],\n",
       " [343.5, -79.265, 0.0],\n",
       " [383.0, -79.22, 0.0],\n",
       " [431.5, -79.17500000000001, 0.0],\n",
       " [494.0, -79.13000000000001, 0.0],\n",
       " [552.0, -79.08500000000001, 0.0],\n",
       " [692.0, -79.04, 0.0],\n",
       " [803.0, -78.995, 0.0],\n",
       " [889.0, -78.95, 0.0],\n",
       " [1059.0, -78.905, 0.0],\n",
       " [1222.0, -78.86, 0.0],\n",
       " [1201.0, -78.815, 0.0],\n",
       " [1599.5, -78.77000000000001, 0.0],\n",
       " [1965.0, -78.72500000000001, 0.0],\n",
       " [2230.5, -78.68, 0.0],\n",
       " [2225.5, -78.635, 0.0],\n",
       " [2815.0, -78.59, 0.0],\n",
       " [2713.5, -78.545, 0.0],\n",
       " [2983.0, -78.5, 0.0],\n",
       " [2425.0, -78.455, 0.0],\n",
       " [2120.5, -78.41000000000001, 0.0],\n",
       " [2228.5, -78.36500000000001, 0.0],\n",
       " [2256.5, -78.32000000000001, 0.0],\n",
       " [2568.0, -78.275, 0.0],\n",
       " [2839.0, -78.23, 0.0],\n",
       " [2860.0, -78.185, 0.0],\n",
       " [3022.0, -78.14, 0.0],\n",
       " [3233.5, -78.095, 0.0],\n",
       " [3729.5, -78.05000000000001, 0.0],\n",
       " [3990.0, -78.00500000000001, 0.0],\n",
       " [4054.5, -77.96000000000001, 0.0],\n",
       " [3127.5, -77.915, 0.0],\n",
       " [3156.5, -77.87, 0.0],\n",
       " [2317.0, -77.825, 0.0],\n",
       " [2156.0, -77.78, 0.0],\n",
       " [2736.0, -77.735, 0.0],\n",
       " [2012.0, -77.69, 0.0],\n",
       " [1872.0, -77.64500000000001, 0.0],\n",
       " [1620.5, -77.60000000000001, 0.0],\n",
       " [1498.5, -77.555, 0.0],\n",
       " [1351.0, -77.51, 0.0],\n",
       " [1087.0, -77.465, 0.0],\n",
       " [936.5, -77.42, 0.0],\n",
       " [689.5, -77.375, 0.0],\n",
       " [522.0, -77.33, 0.0],\n",
       " [426.0, -77.28500000000001, 0.0],\n",
       " [401.0, -77.24000000000001, 0.0],\n",
       " [386.0, -77.19500000000001, 0.0],\n",
       " [380.0, -77.15, 0.0],\n",
       " [364.0, -77.105, 0.0],\n",
       " [341.0, -77.06, 0.0],\n",
       " [337.0, -77.015, 0.0],\n",
       " [329.0, -76.97, 0.0],\n",
       " [324.0, -76.92500000000001, 0.0],\n",
       " [321.0, -76.88000000000001, 0.0],\n",
       " [318.0, -76.83500000000001, 0.0],\n",
       " [286.0, -76.79, 0.0],\n",
       " [285.0, -76.745, 0.0],\n",
       " [281.0, -76.7, 0.0],\n",
       " [274.0, -76.655, 0.0],\n",
       " [269.0, -76.61, 0.0],\n",
       " [265.0, -76.565, 0.0],\n",
       " [302.0, -76.52000000000001, 0.0],\n",
       " [297.0, -76.47500000000001, 0.0],\n",
       " [275.0, -76.43, 0.0],\n",
       " [262.0, -76.385, 0.0],\n",
       " [268.0, -76.34, 0.0],\n",
       " [242.0, -76.295, 0.0],\n",
       " [243.0, -76.25, 0.0],\n",
       " [227.0, -76.205, 0.0],\n",
       " [238.0, -76.16000000000001, 0.0],\n",
       " [250.0, -76.11500000000001, 0.0],\n",
       " [260.0, -76.07000000000001, 0.0],\n",
       " [257.0, -76.025, 0.0],\n",
       " [258.0, -75.98, 0.0],\n",
       " [252.0, -75.935, 0.0],\n",
       " [246.0, -75.89, 0.0],\n",
       " [254.0, -75.845, 0.0],\n",
       " [264.0, -75.80000000000001, 0.0],\n",
       " [259.0, -75.75500000000001, 0.0],\n",
       " [232.0, -75.71000000000001, 0.0],\n",
       " [226.0, -75.665, 0.0]]"
      ]
     },
     "execution_count": 13,
     "metadata": {},
     "output_type": "execute_result"
    }
   ],
   "source": [
    "data_list"
   ]
  },
  {
   "cell_type": "markdown",
   "metadata": {},
   "source": [
    "### Creating the CSV file with proper data"
   ]
  },
  {
   "cell_type": "code",
   "execution_count": 20,
   "metadata": {},
   "outputs": [],
   "source": [
    "# adding header\n",
    "headerList = ['elevation', 'longitude', 'latitude']\n",
    "\n",
    "a_file = open(\"./data/test.csv\", \"w\")\n",
    "writer = csv.writer(a_file)\n",
    "\n",
    "writer.writerow(headerList)\n",
    "\n",
    "for i in data_list:\n",
    "    writer.writerow(i)\n",
    "\n",
    "# for key, value in data_dictionary.items():\n",
    "#     writer.writerow([key, value])\n",
    "\n",
    "a_file.close()"
   ]
  },
  {
   "cell_type": "markdown",
   "metadata": {},
   "source": [
    "### Notes\n",
    "\n",
    "Longitude @ 0.0 Latitude \n",
    "- 1 degree = 60 nautical miles\n",
    "- 1 nautical mile = 1.852 km\n",
    "- 2.7 nautical miles = 5 km\n",
    "- 2.7 nautical miles = 0.045 degrees\n",
    "\n",
    "Latitude\n",
    "- 1 degree = 111 km\n",
    "- "
   ]
  }
 ],
 "metadata": {
  "interpreter": {
   "hash": "cab4f384d397f76fc2d513525ba12c76753da77ed8fc41deba11213a3a81736d"
  },
  "kernelspec": {
   "display_name": "Python 3.9.7 64-bit ('py9': conda)",
   "language": "python",
   "name": "python3"
  },
  "language_info": {
   "codemirror_mode": {
    "name": "ipython",
    "version": 3
   },
   "file_extension": ".py",
   "mimetype": "text/x-python",
   "name": "python",
   "nbconvert_exporter": "python",
   "pygments_lexer": "ipython3",
   "version": "3.9.7"
  },
  "orig_nbformat": 4
 },
 "nbformat": 4,
 "nbformat_minor": 2
}
