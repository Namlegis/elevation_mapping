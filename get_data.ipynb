{
 "cells": [
  {
   "cell_type": "markdown",
   "metadata": {},
   "source": [
    "### Import necessary modules"
   ]
  },
  {
   "cell_type": "code",
   "execution_count": 1,
   "metadata": {},
   "outputs": [],
   "source": [
    "import pandas as pd\n",
    "import numpy as np\n",
    "import requests\n",
    "import json\n",
    "import csv"
   ]
  },
  {
   "cell_type": "markdown",
   "metadata": {},
   "source": [
    "### API Key"
   ]
  },
  {
   "cell_type": "code",
   "execution_count": 2,
   "metadata": {},
   "outputs": [],
   "source": [
    "key = \"9bruT7Gz23e6fARp9684CVmb-Q6ZKM\""
   ]
  },
  {
   "cell_type": "markdown",
   "metadata": {},
   "source": [
    "### Starting Longitude and Latitude"
   ]
  },
  {
   "cell_type": "code",
   "execution_count": 3,
   "metadata": {},
   "outputs": [],
   "source": [
    "lat = 0\n",
    "long = -80.12"
   ]
  },
  {
   "cell_type": "markdown",
   "metadata": {},
   "source": [
    "### Making an API Request & Checking Response"
   ]
  },
  {
   "cell_type": "code",
   "execution_count": 4,
   "metadata": {},
   "outputs": [
    {
     "name": "stdout",
     "output_type": "stream",
     "text": [
      "{\"elevations\":[{\"lat\":0.0,\"lon\":-80.12,\"elevation\":85.5}],\"resolution\":\"5000m\"}\n"
     ]
    }
   ],
   "source": [
    "response = requests.get(f'https://elevation-api.io/api/elevation?points=({lat},{long})&key={key}')\n",
    "print(response.text)"
   ]
  },
  {
   "cell_type": "code",
   "execution_count": 5,
   "metadata": {},
   "outputs": [
    {
     "data": {
      "text/plain": [
       "{'elevations': [{'lat': 0.0, 'lon': -80.12, 'elevation': 85.5}],\n",
       " 'resolution': '5000m'}"
      ]
     },
     "execution_count": 5,
     "metadata": {},
     "output_type": "execute_result"
    }
   ],
   "source": [
    "response.json()"
   ]
  },
  {
   "cell_type": "markdown",
   "metadata": {},
   "source": [
    "### Getting the Data using a for loop"
   ]
  },
  {
   "cell_type": "code",
   "execution_count": 6,
   "metadata": {},
   "outputs": [],
   "source": [
    "data = []\n",
    "for i in range(100):\n",
    "    response = requests.get(f'https://elevation-api.io/api/elevation?points=({lat},{long + (i * 0.045)})&key={key}')\n",
    "    data.append(response)"
   ]
  },
  {
   "cell_type": "markdown",
   "metadata": {},
   "source": [
    "### Figuring out JSON Structure"
   ]
  },
  {
   "cell_type": "code",
   "execution_count": 7,
   "metadata": {},
   "outputs": [
    {
     "name": "stdout",
     "output_type": "stream",
     "text": [
      "One data point with .json(): \n",
      " {'elevations': [{'lat': 0.0, 'lon': -80.12, 'elevation': 85.5}], 'resolution': '5000m'}\n",
      "\n",
      "\n",
      "x['elevations'] looks like: \n",
      " [{'lat': 0.0, 'lon': -80.12, 'elevation': 85.5}] \n",
      "\n",
      "\n",
      "x['elevations'][0] looks like: \n",
      "{'lat': 0.0, 'lon': -80.12, 'elevation': 85.5}\n"
     ]
    },
    {
     "data": {
      "text/plain": [
       "float"
      ]
     },
     "execution_count": 7,
     "metadata": {},
     "output_type": "execute_result"
    }
   ],
   "source": [
    "# type(data[0])\n",
    "x = data[0].json()\n",
    "print(f'One data point with .json(): \\n {x}\\n\\n')\n",
    "print(f\"x['elevations'] looks like: \\n {x['elevations']} \\n\\n\")\n",
    "print(f\"x['elevations'][0] looks like: \\n{x['elevations'][0]}\")\n",
    "type(x['elevations'][0]['lon'])\n",
    "type(x['elevations'][0]['elevation'])"
   ]
  },
  {
   "cell_type": "markdown",
   "metadata": {},
   "source": [
    "### Putting \"Data\" into a Python Dictionary"
   ]
  },
  {
   "cell_type": "code",
   "execution_count": 8,
   "metadata": {},
   "outputs": [],
   "source": [
    "data_dictionary = {}\n",
    "for i in data:\n",
    "    d = i.json()\n",
    "    l = d['elevations'][0]['lon']\n",
    "    e = d['elevations'][0]['elevation']\n",
    "    # temp['long'].append(l)\n",
    "    # temp['elevation'].append(e)\n",
    "    data_dictionary[l] = e"
   ]
  },
  {
   "cell_type": "code",
   "execution_count": 9,
   "metadata": {},
   "outputs": [
    {
     "data": {
      "text/plain": [
       "{-80.12: 85.5,\n",
       " -80.075: 160.5,\n",
       " -80.03: 254.5,\n",
       " -79.985: 161.0,\n",
       " -79.94: 140.0,\n",
       " -79.89500000000001: 168.0,\n",
       " -79.85000000000001: 276.0,\n",
       " -79.805: 336.0,\n",
       " -79.76: 292.0,\n",
       " -79.715: 250.0,\n",
       " -79.67: 201.5,\n",
       " -79.625: 152.0,\n",
       " -79.58: 167.0,\n",
       " -79.53500000000001: 191.0,\n",
       " -79.49000000000001: 194.0,\n",
       " -79.44500000000001: 200.0,\n",
       " -79.4: 229.0,\n",
       " -79.355: 234.0,\n",
       " -79.31: 297.5,\n",
       " -79.265: 343.5,\n",
       " -79.22: 383.0,\n",
       " -79.17500000000001: 431.5,\n",
       " -79.13000000000001: 494.0,\n",
       " -79.08500000000001: 552.0,\n",
       " -79.04: 692.0,\n",
       " -78.995: 803.0,\n",
       " -78.95: 889.0,\n",
       " -78.905: 1059.0,\n",
       " -78.86: 1222.0,\n",
       " -78.815: 1201.0,\n",
       " -78.77000000000001: 1599.5,\n",
       " -78.72500000000001: 1965.0,\n",
       " -78.68: 2230.5,\n",
       " -78.635: 2225.5,\n",
       " -78.59: 2815.0,\n",
       " -78.545: 2713.5,\n",
       " -78.5: 2983.0,\n",
       " -78.455: 2425.0,\n",
       " -78.41000000000001: 2120.5,\n",
       " -78.36500000000001: 2228.5,\n",
       " -78.32000000000001: 2256.5,\n",
       " -78.275: 2568.0,\n",
       " -78.23: 2839.0,\n",
       " -78.185: 2860.0,\n",
       " -78.14: 3022.0,\n",
       " -78.095: 3233.5,\n",
       " -78.05000000000001: 3729.5,\n",
       " -78.00500000000001: 3990.0,\n",
       " -77.96000000000001: 4054.5,\n",
       " -77.915: 3127.5,\n",
       " -77.87: 3156.5,\n",
       " -77.825: 2317.0,\n",
       " -77.78: 2156.0,\n",
       " -77.735: 2736.0,\n",
       " -77.69: 2012.0,\n",
       " -77.64500000000001: 1872.0,\n",
       " -77.60000000000001: 1620.5,\n",
       " -77.555: 1498.5,\n",
       " -77.51: 1351.0,\n",
       " -77.465: 1087.0,\n",
       " -77.42: 936.5,\n",
       " -77.375: 689.5,\n",
       " -77.33: 522.0,\n",
       " -77.28500000000001: 426.0,\n",
       " -77.24000000000001: 401.0,\n",
       " -77.19500000000001: 386.0,\n",
       " -77.15: 380.0,\n",
       " -77.105: 364.0,\n",
       " -77.06: 341.0,\n",
       " -77.015: 337.0,\n",
       " -76.97: 329.0,\n",
       " -76.92500000000001: 324.0,\n",
       " -76.88000000000001: 321.0,\n",
       " -76.83500000000001: 318.0,\n",
       " -76.79: 286.0,\n",
       " -76.745: 285.0,\n",
       " -76.7: 281.0,\n",
       " -76.655: 274.0,\n",
       " -76.61: 269.0,\n",
       " -76.565: 265.0,\n",
       " -76.52000000000001: 302.0,\n",
       " -76.47500000000001: 297.0,\n",
       " -76.43: 275.0,\n",
       " -76.385: 262.0,\n",
       " -76.34: 268.0,\n",
       " -76.295: 242.0,\n",
       " -76.25: 243.0,\n",
       " -76.205: 227.0,\n",
       " -76.16000000000001: 238.0,\n",
       " -76.11500000000001: 250.0,\n",
       " -76.07000000000001: 260.0,\n",
       " -76.025: 257.0,\n",
       " -75.98: 258.0,\n",
       " -75.935: 252.0,\n",
       " -75.89: 246.0,\n",
       " -75.845: 254.0,\n",
       " -75.80000000000001: 264.0,\n",
       " -75.75500000000001: 259.0,\n",
       " -75.71000000000001: 232.0,\n",
       " -75.665: 226.0}"
      ]
     },
     "execution_count": 9,
     "metadata": {},
     "output_type": "execute_result"
    }
   ],
   "source": [
    "data_dictionary"
   ]
  },
  {
   "cell_type": "markdown",
   "metadata": {},
   "source": [
    "### Creating the CSV file with proper data"
   ]
  },
  {
   "cell_type": "code",
   "execution_count": 10,
   "metadata": {},
   "outputs": [],
   "source": [
    "# adding header\n",
    "headerList = ['longitude', 'elevation']\n",
    "\n",
    "a_file = open(\"./data/test.csv\", \"w\")\n",
    "writer = csv.writer(a_file)\n",
    "\n",
    "writer.writerow(headerList)\n",
    "\n",
    "for key, value in data_dictionary.items():\n",
    "    writer.writerow([key, value])\n",
    "\n",
    "a_file.close()"
   ]
  },
  {
   "cell_type": "markdown",
   "metadata": {},
   "source": [
    "### Notes\n",
    "\n",
    "- 1 degree = 60 nautical miles\n",
    "- 1 nautical mile = 1.852 km\n",
    "- 2.7 nautical miles = 5 km\n",
    "- 2.7 nautical miles = 0.045 degrees"
   ]
  }
 ],
 "metadata": {
  "interpreter": {
   "hash": "cab4f384d397f76fc2d513525ba12c76753da77ed8fc41deba11213a3a81736d"
  },
  "kernelspec": {
   "display_name": "Python 3.9.7 64-bit ('py9': conda)",
   "language": "python",
   "name": "python3"
  },
  "language_info": {
   "codemirror_mode": {
    "name": "ipython",
    "version": 3
   },
   "file_extension": ".py",
   "mimetype": "text/x-python",
   "name": "python",
   "nbconvert_exporter": "python",
   "pygments_lexer": "ipython3",
   "version": "3.9.7"
  },
  "orig_nbformat": 4
 },
 "nbformat": 4,
 "nbformat_minor": 2
}
