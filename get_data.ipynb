{
 "cells": [
  {
   "cell_type": "code",
   "execution_count": 1,
   "metadata": {},
   "outputs": [],
   "source": [
    "import pandas as pd\n",
    "import numpy as np\n",
    "import requests\n",
    "import json"
   ]
  },
  {
   "cell_type": "code",
   "execution_count": 2,
   "metadata": {},
   "outputs": [],
   "source": [
    "key = \"9bruT7Gz23e6fARp9684CVmb-Q6ZKM\""
   ]
  },
  {
   "cell_type": "code",
   "execution_count": 3,
   "metadata": {},
   "outputs": [],
   "source": [
    "lat = -0.09221917242400413\n",
    "long = -80.19310763530709\n"
   ]
  },
  {
   "cell_type": "code",
   "execution_count": 4,
   "metadata": {},
   "outputs": [
    {
     "name": "stdout",
     "output_type": "stream",
     "text": [
      "{\"elevations\":[{\"lat\":-0.09221917242400413,\"lon\":-80.19310763530709,\"elevation\":64.5}],\"resolution\":\"5000m\"}\n"
     ]
    }
   ],
   "source": [
    "response = requests.get(f'https://elevation-api.io/api/elevation?points=({lat},{long})&key={key}')\n",
    "print(response.text)"
   ]
  },
  {
   "cell_type": "code",
   "execution_count": 5,
   "metadata": {},
   "outputs": [
    {
     "data": {
      "text/plain": [
       "{'elevations': [{'lat': -0.09221917242400413,\n",
       "   'lon': -80.19310763530709,\n",
       "   'elevation': 64.5}],\n",
       " 'resolution': '5000m'}"
      ]
     },
     "execution_count": 5,
     "metadata": {},
     "output_type": "execute_result"
    }
   ],
   "source": [
    "response.json()"
   ]
  },
  {
   "cell_type": "code",
   "execution_count": 6,
   "metadata": {},
   "outputs": [],
   "source": [
    "data = []\n",
    "for i in range(10):\n",
    "    response = requests.get(f'https://elevation-api.io/api/elevation?points=({lat},{long + (i * .1)})&key={key}')\n",
    "    data.append(response)"
   ]
  },
  {
   "cell_type": "code",
   "execution_count": 7,
   "metadata": {},
   "outputs": [
    {
     "name": "stdout",
     "output_type": "stream",
     "text": [
      "One data point with .json(): \n",
      " {'elevations': [{'lat': -0.09221917242400413, 'lon': -80.19310763530709, 'elevation': 64.5}], 'resolution': '5000m'}\n",
      "\n",
      "\n",
      "x['elevations'] looks like: \n",
      " [{'lat': -0.09221917242400413, 'lon': -80.19310763530709, 'elevation': 64.5}] \n",
      "\n",
      "\n",
      "x['elevations'][0] looks like: \n",
      "{'lat': -0.09221917242400413, 'lon': -80.19310763530709, 'elevation': 64.5}\n"
     ]
    },
    {
     "data": {
      "text/plain": [
       "float"
      ]
     },
     "execution_count": 7,
     "metadata": {},
     "output_type": "execute_result"
    }
   ],
   "source": [
    "# type(data[0])\n",
    "x = data[0].json()\n",
    "print(f'One data point with .json(): \\n {x}\\n\\n')\n",
    "print(f\"x['elevations'] looks like: \\n {x['elevations']} \\n\\n\")\n",
    "print(f\"x['elevations'][0] looks like: \\n{x['elevations'][0]}\")\n",
    "type(x['elevations'][0]['lon'])\n",
    "type(x['elevations'][0]['elevation'])"
   ]
  },
  {
   "cell_type": "code",
   "execution_count": 8,
   "metadata": {},
   "outputs": [],
   "source": [
    "df = pd.DataFrame()"
   ]
  },
  {
   "cell_type": "code",
   "execution_count": 12,
   "metadata": {},
   "outputs": [],
   "source": [
    "dat = {}\n",
    "temp = {}\n",
    "temp['long'] = []\n",
    "temp['elevation'] = []\n",
    "for i in data:\n",
    "    d = i.json()\n",
    "    l = d['elevations'][0]['lon']\n",
    "    e = d['elevations'][0]['elevation']\n",
    "    temp['long'].append(l)\n",
    "    temp['elevation'].append(e)\n",
    "    dat[l] = e\n",
    "\n"
   ]
  },
  {
   "cell_type": "code",
   "execution_count": 10,
   "metadata": {},
   "outputs": [
    {
     "name": "stdout",
     "output_type": "stream",
     "text": [
      "-79.89310763530709\n"
     ]
    },
    {
     "data": {
      "text/plain": [
       "[64.5, 373.0, 297.5, 326.0, 219.5, 215.0, 168.0, 218.0, 263.0, 316.0]"
      ]
     },
     "execution_count": 10,
     "metadata": {},
     "output_type": "execute_result"
    }
   ],
   "source": [
    "print(temp['long'][3])\n",
    "temp['elevation']"
   ]
  },
  {
   "cell_type": "code",
   "execution_count": 13,
   "metadata": {},
   "outputs": [
    {
     "data": {
      "text/plain": [
       "{-80.19310763530709: 64.5,\n",
       " -80.09310763530709: 373.0,\n",
       " -79.99310763530708: 297.5,\n",
       " -79.89310763530709: 326.0,\n",
       " -79.79310763530708: 219.5,\n",
       " -79.69310763530709: 215.0,\n",
       " -79.59310763530709: 168.0,\n",
       " -79.49310763530708: 218.0,\n",
       " -79.39310763530709: 263.0,\n",
       " -79.29310763530708: 316.0}"
      ]
     },
     "execution_count": 13,
     "metadata": {},
     "output_type": "execute_result"
    }
   ],
   "source": [
    "dat"
   ]
  }
 ],
 "metadata": {
  "interpreter": {
   "hash": "cab4f384d397f76fc2d513525ba12c76753da77ed8fc41deba11213a3a81736d"
  },
  "kernelspec": {
   "display_name": "Python 3.9.7 64-bit ('py9': conda)",
   "language": "python",
   "name": "python3"
  },
  "language_info": {
   "codemirror_mode": {
    "name": "ipython",
    "version": 3
   },
   "file_extension": ".py",
   "mimetype": "text/x-python",
   "name": "python",
   "nbconvert_exporter": "python",
   "pygments_lexer": "ipython3",
   "version": "3.9.7"
  },
  "orig_nbformat": 4
 },
 "nbformat": 4,
 "nbformat_minor": 2
}
